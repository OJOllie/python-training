{
 "cells": [
  {
   "attachments": {},
   "cell_type": "markdown",
   "metadata": {},
   "source": [
    "# Using Jupyter Notebook and GeoPandas to Analyze Funny Placenames Dataset\n",
    "\n",
    "In this tutorial, we will explore how to use Jupyter Notebook and GeoPandas to analyze the \"funny_placenames.csv\" dataset. We will go through the steps of setting up the necessary tools, opening and reading the file, performing data analysis, and visualizing the results using GeoPandas.\n",
    "\n",
    "## Prerequisites\n",
    "To follow along with this tutorial, make sure you have the following installed:\n",
    "- Python 3.x\n",
    "- Jupyter Notebook\n",
    "- GeoPandas\n",
    "- Pandas"
   ]
  },
  {
   "attachments": {},
   "cell_type": "markdown",
   "metadata": {},
   "source": [
    "## What are Pandas and Geopandas?"
   ]
  },
  {
   "attachments": {},
   "cell_type": "markdown",
   "metadata": {},
   "source": [
    "Pandas is a data manipulation and analysis libary for Python. It is probably the most widely used libary for data cleaning, filtering, merging and general analysis.\n",
    "\n",
    "Geopandas is the spatial extension of Pandas,  allowing it to handle geographic data and operations."
   ]
  },
  {
   "attachments": {},
   "cell_type": "markdown",
   "metadata": {},
   "source": [
    "## Step 1: Install Dependencies\n",
    "Before we begin, we need to install GeoPandas and Pandas. If you already have Pandas installed just install Geopandas. Open your terminal or command prompt and run the following commands:\n",
    "\n",
    "```shell\n",
    "pip install geopandas\n",
    "pip install pandas\n",
    "```\n",
    "\n",
    "These commands can also be run in jupyter notebook using !pip install geopandas/ !pip install pandas.\n",
    "\n",
    "If geopandas fail to install, download GDAL and Fiona dependencies for your version of Python from this link: https://www.lfd.uci.edu/~gohlke/pythonlibs/.\n",
    "\n",
    "Then use pip install to install the wheel you have downloaded. \n",
    "\n",
    "For example, if you had Python 3.10 you would download Fiona-1.8.21-cp310-cp310-win_amd64.whl and then install using the command:\n",
    "\n",
    "pip install 'yourdirectory/Fiona-1.8.21-cp310-cp310-win_amd64.whl'"
   ]
  },
  {
   "attachments": {},
   "cell_type": "markdown",
   "metadata": {},
   "source": [
    "## Step 2: Import Libraries\n",
    "Now that we have the required tools installed, let's start by importing the necessary libraries in our Jupyter Notebook."
   ]
  },
  {
   "cell_type": "code",
   "execution_count": null,
   "metadata": {},
   "outputs": [],
   "source": [
    "# import packages\n",
    "import geopandas as gpd\n",
    "import pandas as pd"
   ]
  },
  {
   "attachments": {},
   "cell_type": "markdown",
   "metadata": {},
   "source": [
    "Note that it is often worth checking a libaries documentation. For example, the Geopandas documentation contains information on all the different built-in functions of geopandas:\n",
    "\n",
    "https://geopandas.org/en/stable/docs.html"
   ]
  },
  {
   "attachments": {},
   "cell_type": "markdown",
   "metadata": {},
   "source": [
    "## Step 3: Load the Dataset\n",
    "Next, we'll load the \"funny_placenames.csv\" dataset using Pandas and examine its contents. We can read it in with the read_csv function from pandas.\n"
   ]
  },
  {
   "cell_type": "code",
   "execution_count": null,
   "metadata": {},
   "outputs": [],
   "source": [
    "# load geodataframe, note that we use r before a string to ignore special characters in the directory. \n",
    "df = pd.read_csv(r'C:\\Users\\funny_placenames.csv')"
   ]
  },
  {
   "attachments": {},
   "cell_type": "markdown",
   "metadata": {},
   "source": [
    "The df.head function allows us to only pull back a specified number of rows, similar to limit within SQL."
   ]
  },
  {
   "cell_type": "code",
   "execution_count": null,
   "metadata": {},
   "outputs": [],
   "source": [
    "# show the first 5 rows to see the data\n",
    "df.head(5)"
   ]
  },
  {
   "attachments": {},
   "cell_type": "markdown",
   "metadata": {},
   "source": [
    "We can also examine all the column names with .columns, and all the unique items within a column using .unique()."
   ]
  },
  {
   "cell_type": "code",
   "execution_count": null,
   "metadata": {},
   "outputs": [],
   "source": [
    "# show the columns in the geodataframe\n",
    "df.columns\n"
   ]
  },
  {
   "cell_type": "code",
   "execution_count": null,
   "metadata": {},
   "outputs": [],
   "source": [
    "# see all the unique names \n",
    "df['name'].unique()"
   ]
  },
  {
   "attachments": {},
   "cell_type": "markdown",
   "metadata": {},
   "source": [
    "For Pandas and Geopandas, within a Jupyter notebook, **you can examine the value of a variable just by typing its name at the end of the cell**."
   ]
  },
  {
   "cell_type": "code",
   "execution_count": null,
   "metadata": {},
   "outputs": [],
   "source": [
    "df"
   ]
  },
  {
   "attachments": {},
   "cell_type": "markdown",
   "metadata": {},
   "source": [
    "We can also recast the elements of the dataframe as a list:"
   ]
  },
  {
   "cell_type": "code",
   "execution_count": null,
   "metadata": {},
   "outputs": [],
   "source": [
    "list(df.columns)"
   ]
  },
  {
   "attachments": {},
   "cell_type": "markdown",
   "metadata": {},
   "source": [
    "You can access individual rows in the dataframe using pandas syntax.  To get the a specific row by it's position in the dataframe, we can use df.iloc[x] which will return a labelled array showing the single row.\n",
    "\n",
    "Another way to access rows is with *loc*. \n",
    "\n",
    "*iloc* uses row integers \n",
    "*loc* uses label-based index values"
   ]
  },
  {
   "cell_type": "code",
   "execution_count": null,
   "metadata": {},
   "outputs": [],
   "source": [
    "new_df = df.iloc[4]\n",
    "new_df"
   ]
  },
  {
   "attachments": {},
   "cell_type": "markdown",
   "metadata": {},
   "source": [
    "To access a row as a new dataframe, we would use df.iloc[x:x]. If we do create a new data frame- remember that the index labels for the row will be retained!. In the example below the index remains '4'."
   ]
  },
  {
   "cell_type": "code",
   "execution_count": null,
   "metadata": {},
   "outputs": [],
   "source": [
    "new_df = df.iloc[4:5]\n",
    "new_df"
   ]
  },
  {
   "attachments": {},
   "cell_type": "markdown",
   "metadata": {},
   "source": [
    "You can also access rows by their index label, this is useful if you have a well-defined index or ID and what to access the data by these labels. If we don't define an index when creating the GeoDataFrame it is automatically assigned to identify row numbers. \n",
    "\n",
    "***Remember*** if we create a new dataframe, the index labels will be retained, so our 'new_df' will only work if we access the index '4' for Nether Wallop, as that is the original index label of that item."
   ]
  },
  {
   "cell_type": "code",
   "execution_count": null,
   "metadata": {},
   "outputs": [],
   "source": [
    "new_df.loc[4:5]"
   ]
  },
  {
   "attachments": {},
   "cell_type": "markdown",
   "metadata": {},
   "source": [
    "## Step 4: Data Analysis\n",
    "Now, let's perform some data analysis on the dataset. We will find the place with the minimum and maximum population and determine the most northerly latitude. "
   ]
  },
  {
   "cell_type": "code",
   "execution_count": null,
   "metadata": {},
   "outputs": [],
   "source": [
    "# find the maximum population\n",
    "max_population = df['population'].max()\n",
    "\n",
    "print(max_population)\n"
   ]
  },
  {
   "attachments": {},
   "cell_type": "markdown",
   "metadata": {},
   "source": [
    "This gives us the max population. But to find the name of the location we need to identify the row.\n",
    "\n",
    "We can do this using idxmax() to identify the index label of the maximum value, and .loc to achieve the entire row. "
   ]
  },
  {
   "cell_type": "code",
   "execution_count": null,
   "metadata": {},
   "outputs": [],
   "source": [
    "# find the index with the largest population using idxmax\n",
    "max_index = df['population'].idxmax()\n",
    "print(max_index)\n",
    "\n",
    "# identify the row with the largest population using loc\n",
    "max_row = df.loc[max_index]\n",
    "\n",
    "# print results. We use f before the string to allow the inclusion of variables in {}.\n",
    "print(f\"Name: {max_row['name']},  Population: {max_row['population']}\")\n"
   ]
  },
  {
   "attachments": {},
   "cell_type": "markdown",
   "metadata": {},
   "source": [
    "If we wanted, we could combine this process into one step rather than 2: max_row = df.loc[df['population'].idxmax()].).\n",
    "\n",
    "This depends on if you want clearer code, or more efficient code. "
   ]
  },
  {
   "attachments": {},
   "cell_type": "markdown",
   "metadata": {},
   "source": [
    "An alternative way to identify the largest population would be to sort the values and extract the first one."
   ]
  },
  {
   "cell_type": "code",
   "execution_count": null,
   "metadata": {},
   "outputs": [],
   "source": [
    "# sort values by population and extract the first using .head(1)\n",
    "largest = df.sort_values('population', ascending=False).head(1)\n",
    "\n",
    "print(largest)"
   ]
  },
  {
   "attachments": {},
   "cell_type": "markdown",
   "metadata": {},
   "source": [
    "Note that minimum values can be extracted using idxmin, min() and by sorting values with ascending=True. For example, we can do this to find the most southern latitude. "
   ]
  },
  {
   "cell_type": "code",
   "execution_count": null,
   "metadata": {},
   "outputs": [],
   "source": [
    "# Find the most southernly latitude using ,min()\n",
    "most_southern_latitude = df['latitude'].min()\n",
    "print(f\"The most southern latitude is: {most_southern_latitude}\")"
   ]
  },
  {
   "cell_type": "code",
   "execution_count": null,
   "metadata": {},
   "outputs": [],
   "source": [
    "# find most southern attitude by sorting values and extract the first using .head(1)\n",
    "southern = df.sort_values('population', ascending=True).head(1)\n",
    "\n",
    "print(southern)"
   ]
  },
  {
   "attachments": {},
   "cell_type": "markdown",
   "metadata": {},
   "source": [
    "## Step 5: Using GeoPandas\n",
    "Lastly, we will use GeoPandas to explore the geospatial elements of the data and visualize the funny placenames on a map. First, we need to create a geodataframe using our existing dataframe. "
   ]
  },
  {
   "cell_type": "code",
   "execution_count": null,
   "metadata": {},
   "outputs": [],
   "source": [
    "# Create a GeoDataFrame from the DataFrame\n",
    "gdf = gpd.GeoDataFrame(df, geometry=gpd.points_from_xy(df.longitude, df.latitude))\n",
    "\n",
    "# Set a CRS\n",
    "gdf = gdf.set_crs('EPSG:27700')\n"
   ]
  },
  {
   "attachments": {},
   "cell_type": "markdown",
   "metadata": {},
   "source": [
    "Note here: using gdf.set_crs('ESPG:27700') and note gdf = gdf.set_crs('ESPG:27700') won't give an error- but it won't change your CRS! This can be a very frustrating bug so it is worth knowing about."
   ]
  },
  {
   "cell_type": "code",
   "execution_count": null,
   "metadata": {},
   "outputs": [],
   "source": [
    "gdf.geometry.total_bounds"
   ]
  },
  {
   "cell_type": "code",
   "execution_count": null,
   "metadata": {},
   "outputs": [],
   "source": [
    "# Get the extent of the data\n",
    "xmin, ymin, xmax, ymax = gdf.geometry.total_bounds\n",
    "\n",
    "# print the extents\n",
    "print(f\"xmin = {xmin}, ymin = {ymin}, xmax = {xmax}, ymax = {ymax}\")\n"
   ]
  },
  {
   "attachments": {},
   "cell_type": "markdown",
   "metadata": {},
   "source": [
    "Next we will create a new column for updated populations in 2023 (the population has doubled as properties boom in locations with silly names). We will calculate these new values and plot them on a bar chart."
   ]
  },
  {
   "cell_type": "code",
   "execution_count": null,
   "metadata": {},
   "outputs": [],
   "source": [
    "# create new area column for population2023\n",
    "gdf['population_2023'] = gdf.population * 2\n",
    "\n",
    "# plot bar chart\n",
    "ax= gdf.plot.bar(x='name',y='population_2023', fontsize=10)"
   ]
  },
  {
   "attachments": {},
   "cell_type": "markdown",
   "metadata": {},
   "source": [
    "We can also plot this as points on a map."
   ]
  },
  {
   "cell_type": "code",
   "execution_count": null,
   "metadata": {},
   "outputs": [],
   "source": [
    "plot = gdf.plot(marker='o', color='red', markersize=5, legend=True)\n",
    "\n",
    "# Set the title\n",
    "plot.set_title(\"Points on a map\")\n"
   ]
  },
  {
   "attachments": {},
   "cell_type": "markdown",
   "metadata": {},
   "source": [
    "Finally, lets output our new geodataframe as a GPKG.\n"
   ]
  },
  {
   "cell_type": "code",
   "execution_count": null,
   "metadata": {},
   "outputs": [],
   "source": [
    "# write to GPKG\n",
    "output_file = r\"C:\\Users\\obowden\\OneDrive - Ordnance Survey\\Documents\\Misc\\funnyplacenames.gpkg\"\n",
    "\n",
    "gdf.to_file(output_file, driver=\"GPKG\")"
   ]
  },
  {
   "attachments": {},
   "cell_type": "markdown",
   "metadata": {},
   "source": [
    "Python also works for data visualisation and mapping. Lets use the GPKG we just made and show it on a map. There are many packages we can use for this, but for now we will try it with ***folium***."
   ]
  },
  {
   "cell_type": "code",
   "execution_count": null,
   "metadata": {},
   "outputs": [],
   "source": [
    "import folium"
   ]
  },
  {
   "cell_type": "code",
   "execution_count": null,
   "metadata": {},
   "outputs": [],
   "source": [
    "# Read the shapefile data using GeoPandas\n",
    "gpkg_path = r\"C:\\Users\\obowden\\OneDrive - Ordnance Survey\\Documents\\Misc\\funnyplacenames.gpkg\"\n",
    "gdf = gpd.read_file(gpkg_path)\n",
    "\n",
    "# Create a Folium map centered on the mean coordinates of the GeoDataFrame\n",
    "map_center = gdf.geometry.unary_union.centroid\n",
    "m = folium.Map(location=[map_center.y, map_center.x], zoom_start=10)\n",
    "\n",
    "# Add the GeoDataFrame to the map as GeoJSON overlay\n",
    "geojson_data = gdf.to_json()\n",
    "\n",
    "# Add the GeoJSON data as a GeoJSON overlay to the map\n",
    "folium.GeoJson(geojson_data, name='GeoJSON', tooltip=folium.features.GeoJsonTooltip(fields=['name', 'population'], labels=True), popup=folium.features.GeoJsonPopup(fields=['name', 'population'], labels=False)).add_to(m)\n",
    "\n",
    "# Display the map\n",
    "m"
   ]
  }
 ],
 "metadata": {
  "kernelspec": {
   "display_name": "Python 3",
   "language": "python",
   "name": "python3"
  },
  "language_info": {
   "codemirror_mode": {
    "name": "ipython",
    "version": 3
   },
   "file_extension": ".py",
   "mimetype": "text/x-python",
   "name": "python",
   "nbconvert_exporter": "python",
   "pygments_lexer": "ipython3",
   "version": "3.10.8"
  },
  "orig_nbformat": 4,
  "vscode": {
   "interpreter": {
    "hash": "7af3df6d37d4072006f997d72790b3b31784038f43073f54cdc779255e10cbf1"
   }
  }
 },
 "nbformat": 4,
 "nbformat_minor": 2
}
