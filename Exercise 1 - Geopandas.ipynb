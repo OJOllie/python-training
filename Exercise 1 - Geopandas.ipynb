{
 "cells": [
  {
   "attachments": {},
   "cell_type": "markdown",
   "metadata": {},
   "source": [
    "# Exercise 1 - Geopandas\n",
    "For this challenge, you will use GeoPandas to read and analyze geospatial data on sites data.\n",
    "\n",
    "It will require you to download the sites data package from here: https://osdatahub.os.uk/downloads/packages/2806#downloads\n",
    "\n",
    "Step 1: Import GeoPandas and read the GPKG into a GeoDataFrame\n",
    "\n",
    "Step 2: Display the following information about the GeoDataFrame\n",
    "\n",
    "    · The first row 5s\n",
    "    · The column names \n",
    "    · The extent of the geodataframe\n",
    "    · Show all unique values in oslandusetiers \n",
    "    · The CRS of the GDF\n",
    "    \n",
    "\n",
    "Step 3: Calculate the area of each site in Square Kilometers and plot a bar chart showing the areas of the 10 largest\n",
    "\n",
    "Step 4: Map the geometeries, colouring each borough by area\n",
    "\n",
    "Step 5: Transform the CRS to WGS84 and write to a new GPKG"
   ]
  },
  {
   "cell_type": "code",
   "execution_count": null,
   "metadata": {},
   "outputs": [],
   "source": [
    "# import packages\n",
    "import geopandas as gpd"
   ]
  },
  {
   "cell_type": "code",
   "execution_count": null,
   "metadata": {},
   "outputs": [],
   "source": [
    "# read in GPKG \n",
    "gdf = gpd.read_file(r'C:\\Users\\obowden\\OneDrive - Ordnance Survey\\Python\\Training\\data\\sites\\lus_fts_site.GPKG')"
   ]
  },
  {
   "cell_type": "code",
   "execution_count": null,
   "metadata": {},
   "outputs": [],
   "source": [
    "# show the first 5 rows\n",
    "gdf.head(5)"
   ]
  },
  {
   "cell_type": "code",
   "execution_count": null,
   "metadata": {},
   "outputs": [],
   "source": [
    "# show the columns\n",
    "gdf.columns"
   ]
  },
  {
   "cell_type": "code",
   "execution_count": null,
   "metadata": {},
   "outputs": [],
   "source": [
    "# get the CRS\n",
    "gdf.crs\n"
   ]
  },
  {
   "cell_type": "code",
   "execution_count": null,
   "metadata": {},
   "outputs": [],
   "source": [
    "# get the extent\n",
    "xmin, ymin, xmax, ymax = gdf.geometry.total_bounds\n",
    "xmin, ymin, xmax, ymax \n"
   ]
  },
  {
   "cell_type": "code",
   "execution_count": null,
   "metadata": {},
   "outputs": [],
   "source": [
    "# group the values in oslandusetiera\n",
    "uniquervalues = gdf['oslandusetiera'].unique()\n",
    "\n",
    "print(uniquervalues)"
   ]
  },
  {
   "cell_type": "code",
   "execution_count": null,
   "metadata": {},
   "outputs": [],
   "source": [
    "largest_sites"
   ]
  },
  {
   "cell_type": "code",
   "execution_count": null,
   "metadata": {},
   "outputs": [],
   "source": [
    "# create new area column for area_km2\n",
    "gdf['area_km2'] = gdf.geometry.area / 100000\n",
    "\n",
    "# sort the data and extract 10 largest\n",
    "largest_sites = gdf.sort_values('area_km2', ascending=False).head(10)\n",
    "\n",
    "# plot bar chart\n",
    "largest_sites.plot.bar(x='osid',y='area_km2')"
   ]
  },
  {
   "cell_type": "code",
   "execution_count": null,
   "metadata": {},
   "outputs": [],
   "source": [
    "axis = gdf.plot(column='area_km2', cmap='winter', alpha=0.7, legend=True, figsize=(10,6))\n",
    "axis.set_title('Geometries by area (sq km)')\n",
    "axis.set_aspect('equal')"
   ]
  },
  {
   "cell_type": "code",
   "execution_count": null,
   "metadata": {},
   "outputs": [],
   "source": [
    "# write to GPKG\n",
    "gdf_wgs84 = gdf.to_crs(\"EPSG:4326\")\n",
    "\n",
    "output_file = r\"C:\\Users\\obowden\\OneDrive - Ordnance Survey\\Documents\\Misc\\text.gpkg\"\n",
    "\n",
    "gdf_wgs84.to_file(output_file, driver=\"GPKG\")"
   ]
  }
 ],
 "metadata": {
  "kernelspec": {
   "display_name": "Python 3",
   "language": "python",
   "name": "python3"
  },
  "language_info": {
   "codemirror_mode": {
    "name": "ipython",
    "version": 3
   },
   "file_extension": ".py",
   "mimetype": "text/x-python",
   "name": "python",
   "nbconvert_exporter": "python",
   "pygments_lexer": "ipython3",
   "version": "3.10.8 (tags/v3.10.8:aaaf517, Oct 11 2022, 16:50:30) [MSC v.1933 64 bit (AMD64)]"
  },
  "orig_nbformat": 4,
  "vscode": {
   "interpreter": {
    "hash": "7af3df6d37d4072006f997d72790b3b31784038f43073f54cdc779255e10cbf1"
   }
  }
 },
 "nbformat": 4,
 "nbformat_minor": 2
}
