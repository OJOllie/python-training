{
 "cells": [
  {
   "attachments": {},
   "cell_type": "markdown",
   "metadata": {},
   "source": [
    "## Lesson 1 - Installing Python, Visual Studio Code and Packages\n",
    "\n",
    "For this training course we will use MS Visual Studio code as our coding platform of choice and we will be working with Python 3. Please follow the next steps to get it installed and configured."
   ]
  },
  {
   "attachments": {},
   "cell_type": "markdown",
   "metadata": {},
   "source": [
    "1. **Install Python**: Visit the official Python website (https://www.python.org) and download the latest version of Python 3 for your operating system. Follow the installation instructions and make sure to check the box to add Python to your system's PATH.\n",
    "\n",
    "2. **Install Visual Studio Code**: Go to the official Visual Studio Code website (https://code.visualstudio.com) and download the appropriate version for your operating system. Follow the installation instructions to complete the setup.\n",
    "\n",
    "3. **Install the Python Extension**: Launch Visual Studio Code and open the Extensions view by clicking on the square icon on the left sidebar or by pressing `Ctrl+Shift+X` (Windows/Linux) or `Cmd+Shift+X` (Mac). Search for \"Python\" in the extensions marketplace and install the official Python extension by Microsoft.\n",
    "\n",
    "4. **Create a Python Project**: Open Visual Studio Code and create a new folder for your Python project. Open the folder in VS Code by selecting \"File\" -> \"Open Folder\" from the menu. This will be the root folder for your Python project.\n",
    "\n",
    "5. **Configure Python Interpreter**: In VS Code, open the Command Palette by pressing `Ctrl+Shift+P` (Windows/Linux) or `Cmd+Shift+P` (Mac). Search for \"Python: Select Interpreter\" and choose the Python interpreter you installed in step 1.\n",
    "\n",
    "6. **Create a Python File**: Right-click on the root folder in the Explorer view and select \"New File\". Name the file with a `.py` extension, for example, `main.py`. This will be the main file where you write your Python code.\n",
    "\n",
    "7. **Start Coding**: With the Python file open, you are now ready to write your first Python program.\n",
    "\n",
    "#### Hello, World!\n",
    "\n",
    "In Python, printing \"Hello, World!\" is as simple as using the `print` function. "
   ]
  },
  {
   "cell_type": "code",
   "execution_count": null,
   "metadata": {},
   "outputs": [],
   "source": [
    "print(\"Hello, World!\")"
   ]
  },
  {
   "attachments": {},
   "cell_type": "markdown",
   "metadata": {},
   "source": [
    "To run the code, go to the integrated terminal in VS Code by selecting \"View\" -> \"Terminal\" or by pressing `Ctrl+` backtick (```Ctrl+` ```). Type `python main.py` and press Enter. You will see the output \"Hello, World!\" displayed in the terminal.\n",
    "\n",
    "You can also use command prommpt. Open Command Prompt, type Python and press enter. If your install was sucessful it should print your python version. Next type the same command print(\"hello, world\"!).\n"
   ]
  },
  {
   "attachments": {},
   "cell_type": "markdown",
   "metadata": {},
   "source": [
    "Now we are going to install some modules using pip. We do this by typing pip install followed by the module name:"
   ]
  },
  {
   "cell_type": "code",
   "execution_count": null,
   "metadata": {},
   "outputs": [],
   "source": [
    "pip install jupyter "
   ]
  },
  {
   "attachments": {},
   "cell_type": "markdown",
   "metadata": {},
   "source": [
    "You can use 'pip list' to confirm the modules you have installed"
   ]
  },
  {
   "cell_type": "code",
   "execution_count": null,
   "metadata": {},
   "outputs": [],
   "source": [
    "pip list"
   ]
  },
  {
   "attachments": {},
   "cell_type": "markdown",
   "metadata": {},
   "source": [
    "Installing through pip gives us access to external code that can easily integrate into Python. Giving us new functions and abilities. A few examples of popular modules are:\n",
    "\n",
    "- `requests`: Simplifies sending HTTP requests and handling responses.\n",
    "- `beautifulsoup4`: A web scraping library for extracting data from HTML and XML documents.\n",
    "- `numpy`: Provides support for working with large, multi-dimensional arrays and matrices.\n",
    "- `pandas`: Offers high-performance, easy-to-use data structures and data analysis tools.\n",
    "- `geopandas`: Geospatial extension to Python, allowing reading, writing and analysis of geospatial data\n",
    "- `matplotlib`: Allows creating visualizations and plots in Python.\n",
    "- `tensorflow`: A popular deep learning library for building and training machine learning models.\n",
    "- `django`: A powerful web framework for building web applications.\n",
    "- `flask`: A lightweight web framework for building web applications and APIs.\n",
    "\n",
    "And the module you have just installed - `Jupyter`. This module can work with your VS Code environment to allow the running of cells within a Jupyter Notebook. This can make it easier to develop and debug code.\n",
    "\n",
    "To active Jupyter, make sure it is installed on the 'Extensions' tab on the toolbar within VSCode. Now with Jupyter we can start assigning variables and running cells! Lets install a new package using pip (the ! at the start tells Jupyter to run this command through the terminal) and then import it for use with this notebook."
   ]
  },
  {
   "cell_type": "code",
   "execution_count": null,
   "metadata": {},
   "outputs": [],
   "source": [
    "pip install Pillow"
   ]
  },
  {
   "cell_type": "code",
   "execution_count": null,
   "metadata": {},
   "outputs": [],
   "source": [
    "from PIL import Image"
   ]
  },
  {
   "attachments": {},
   "cell_type": "markdown",
   "metadata": {},
   "source": [
    "Any variables we initialise now will be kept availble for later cells in the notebook. For example, if we assign im to an image now:"
   ]
  },
  {
   "cell_type": "code",
   "execution_count": null,
   "metadata": {},
   "outputs": [],
   "source": [
    "im = Image.open('dog.gif')"
   ]
  },
  {
   "attachments": {},
   "cell_type": "markdown",
   "metadata": {},
   "source": [
    "If your image is not stored in your working directory you may need to put 'r' before it to tell python to ignore special characters (e.g.r'C:/user/dog.gif').\n",
    "\n",
    "Then run just our variable im:"
   ]
  },
  {
   "cell_type": "code",
   "execution_count": null,
   "metadata": {},
   "outputs": [],
   "source": [
    "im"
   ]
  },
  {
   "attachments": {},
   "cell_type": "markdown",
   "metadata": {},
   "source": [
    "Congratulations! You have set up Python, installed and imported a package and assigned a variable."
   ]
  },
  {
   "attachments": {},
   "cell_type": "markdown",
   "metadata": {},
   "source": [
    "## Lesson 2 - Python Basics and Data Types\n"
   ]
  },
  {
   "attachments": {},
   "cell_type": "markdown",
   "metadata": {},
   "source": [
    "When using Python we can include notes with the # symbol, which we will use throughout this course."
   ]
  },
  {
   "cell_type": "code",
   "execution_count": null,
   "metadata": {},
   "outputs": [],
   "source": [
    "# this is a note"
   ]
  },
  {
   "attachments": {},
   "cell_type": "markdown",
   "metadata": {},
   "source": [
    "## Numbers"
   ]
  },
  {
   "attachments": {},
   "cell_type": "markdown",
   "metadata": {},
   "source": [
    "Python will read data as different data types depending on what the input is. Lets assign some to variables:"
   ]
  },
  {
   "cell_type": "code",
   "execution_count": null,
   "metadata": {},
   "outputs": [],
   "source": [
    "# integer\n",
    "x = 3\n",
    "y = 2\n",
    "# floating point (floats)\n",
    "z = 2.2\n",
    "\n",
    "print(x,y,z)"
   ]
  },
  {
   "attachments": {},
   "cell_type": "markdown",
   "metadata": {},
   "source": [
    "The print function outputs the values as a string. We can also access variables with just the variable name."
   ]
  },
  {
   "cell_type": "code",
   "execution_count": null,
   "metadata": {},
   "outputs": [],
   "source": [
    "z"
   ]
  },
  {
   "attachments": {},
   "cell_type": "markdown",
   "metadata": {},
   "source": [
    "It is also worth nothing that python uses **indentation** - so if your code is alligned incorrectly it will not work. Use tab to create indentations. Now we can start playing around with our new variables to do some really complex mathematics:"
   ]
  },
  {
   "cell_type": "code",
   "execution_count": null,
   "metadata": {},
   "outputs": [],
   "source": [
    "# add to integers together\n",
    "sum = x+y\n",
    "print(sum)"
   ]
  },
  {
   "attachments": {},
   "cell_type": "markdown",
   "metadata": {},
   "source": [
    "Other mathematic commands work how you would expect:"
   ]
  },
  {
   "cell_type": "code",
   "execution_count": null,
   "metadata": {},
   "outputs": [],
   "source": [
    "# x = 3 and y = 2\n",
    "\n",
    "myDiff = x-y\n",
    "myProduct = x*y\n",
    "myDiv = x/y\n",
    "myPower = x**y\n",
    "myOtherDiv = y/x\n",
    "print(myDiff,myProduct,myDiv,myPower,myOtherDiv)\n",
    "print(y//x)"
   ]
  },
  {
   "attachments": {},
   "cell_type": "markdown",
   "metadata": {},
   "source": [
    "We can also use an f value before a string to tell Python to allow variables within the printed statement. This is called a formatted string."
   ]
  },
  {
   "cell_type": "code",
   "execution_count": null,
   "metadata": {},
   "outputs": [],
   "source": [
    "print(f'Subtract {x} by {y} to get {myDiff}')"
   ]
  },
  {
   "attachments": {},
   "cell_type": "markdown",
   "metadata": {},
   "source": [
    "## Booleans"
   ]
  },
  {
   "attachments": {},
   "cell_type": "markdown",
   "metadata": {},
   "source": [
    "Booleans are another data type, with only two possible values: True or False. These are useful in if statements and loops."
   ]
  },
  {
   "cell_type": "code",
   "execution_count": null,
   "metadata": {},
   "outputs": [],
   "source": [
    "Bool = True\n",
    "Bool"
   ]
  },
  {
   "attachments": {},
   "cell_type": "markdown",
   "metadata": {},
   "source": [
    "## Strings"
   ]
  },
  {
   "attachments": {},
   "cell_type": "markdown",
   "metadata": {},
   "source": [
    "Another data type are strings, which we have seen before. This is data contained within single quotes ('') or double quotes (\"\"). We can turn integers into strings if we put them in quotes."
   ]
  },
  {
   "cell_type": "code",
   "execution_count": null,
   "metadata": {},
   "outputs": [],
   "source": [
    "first_name = 'John'\n",
    "last_name = 'Doe'\n",
    "full_name = first_name + \" \" + last_name\n",
    "print(full_name)"
   ]
  },
  {
   "attachments": {},
   "cell_type": "markdown",
   "metadata": {},
   "source": [
    "We can manipulate and analyse strings with built-in functions:"
   ]
  },
  {
   "cell_type": "code",
   "execution_count": null,
   "metadata": {},
   "outputs": [],
   "source": [
    "# determine string length\n",
    "length = len(full_name)\n",
    "print(length)"
   ]
  },
  {
   "cell_type": "code",
   "execution_count": null,
   "metadata": {},
   "outputs": [],
   "source": [
    "# convert string to lowercase\n",
    "lowercase_name = full_name.lower()\n",
    "print(lowercase_name)"
   ]
  },
  {
   "cell_type": "code",
   "execution_count": null,
   "metadata": {},
   "outputs": [],
   "source": [
    "# replace substrings by replacing John with Bob\n",
    "new_name = full_name.replace('John', 'Bob')\n",
    "new_name"
   ]
  },
  {
   "attachments": {},
   "cell_type": "markdown",
   "metadata": {},
   "source": [
    "We recovered F (or formatted string literals) earlier, which allow the insertion of dynamic values such as variables and expressions.\n",
    "\n",
    "Another type of string is an R (or raw string literal). Python will ignore special characters, allowing you to work with file paths."
   ]
  },
  {
   "cell_type": "code",
   "execution_count": null,
   "metadata": {},
   "outputs": [],
   "source": [
    "raw_file_path = r\"C:\\Users\\Username\\Documents\\file.txt\"\n",
    "print(raw_file_path)"
   ]
  },
  {
   "attachments": {},
   "cell_type": "markdown",
   "metadata": {},
   "source": [
    "## Lists"
   ]
  },
  {
   "attachments": {},
   "cell_type": "markdown",
   "metadata": {},
   "source": [
    "A list in Python is an ordered sequence of data. The data in a list can be of different data types. We assign a list with square bracket [], and the values are seperated by commas. "
   ]
  },
  {
   "cell_type": "code",
   "execution_count": null,
   "metadata": {},
   "outputs": [],
   "source": [
    "aList = [4,5,6,7]\n",
    "aMixedList = [2,\"hello\",im]\n",
    "aList"
   ]
  },
  {
   "cell_type": "code",
   "execution_count": null,
   "metadata": {},
   "outputs": [],
   "source": [
    "aMixedList"
   ]
  },
  {
   "attachments": {},
   "cell_type": "markdown",
   "metadata": {},
   "source": [
    "Now we get to something that may be confusing at first. \n",
    "\n",
    "Within a list, the first value has an index of **zero**, then moving up by one every item. For example:"
   ]
  },
  {
   "cell_type": "code",
   "execution_count": null,
   "metadata": {},
   "outputs": [],
   "source": [
    "# aList = 4,5,6,7\n",
    "print(aList[0],aList[2])"
   ]
  },
  {
   "attachments": {},
   "cell_type": "markdown",
   "metadata": {},
   "source": [
    "As we can see, the first indexed value at index [0] is the first number in our list 4. To reinforce this, we can examine our list further with inbuilt functions:"
   ]
  },
  {
   "cell_type": "code",
   "execution_count": null,
   "metadata": {},
   "outputs": [],
   "source": [
    "# print the number of values in our list\n",
    "print(len(aList))"
   ]
  },
  {
   "cell_type": "code",
   "execution_count": null,
   "metadata": {},
   "outputs": [],
   "source": [
    "# print a list with a range of 17\n",
    "print(list(range(17)))"
   ]
  },
  {
   "cell_type": "code",
   "execution_count": null,
   "metadata": {},
   "outputs": [],
   "source": [
    "# print the third index of our list \n",
    "print(aList[3])"
   ]
  },
  {
   "attachments": {},
   "cell_type": "markdown",
   "metadata": {},
   "source": [
    "You can use negative indexing, which allows you to reference back from the end of a list.  The [-1] value of a list is the last element of the list, the [-2] value is the second-last"
   ]
  },
  {
   "cell_type": "code",
   "execution_count": null,
   "metadata": {},
   "outputs": [],
   "source": [
    "print(aList[-1])"
   ]
  },
  {
   "attachments": {},
   "cell_type": "markdown",
   "metadata": {},
   "source": [
    "There are lots of inbuilt python functions to alter and analyse lists. "
   ]
  },
  {
   "cell_type": "code",
   "execution_count": null,
   "metadata": {},
   "outputs": [],
   "source": [
    "# assign a new value to a list based on the index\n",
    "print(aList)\n",
    "aList[0] = 9\n",
    "print(aList)"
   ]
  },
  {
   "cell_type": "code",
   "execution_count": null,
   "metadata": {},
   "outputs": [],
   "source": [
    "# appen a list\n",
    "aList.append(12)\n",
    "print(aList)"
   ]
  },
  {
   "cell_type": "code",
   "execution_count": null,
   "metadata": {},
   "outputs": [],
   "source": [
    "# pop the object at position 2 out of the list\n",
    "x = aList.pop(2) \n",
    "print(aList,x)"
   ]
  },
  {
   "cell_type": "code",
   "execution_count": null,
   "metadata": {},
   "outputs": [],
   "source": [
    "# sort the list in place \n",
    "aList.sort() \n",
    "print(aList)"
   ]
  },
  {
   "attachments": {},
   "cell_type": "markdown",
   "metadata": {},
   "source": [
    "We can also access lists by slicing. For example:"
   ]
  },
  {
   "cell_type": "code",
   "execution_count": null,
   "metadata": {},
   "outputs": [],
   "source": [
    "print(aList[0:1])"
   ]
  },
  {
   "cell_type": "code",
   "execution_count": null,
   "metadata": {},
   "outputs": [],
   "source": [
    "print(aList[1:3])"
   ]
  },
  {
   "cell_type": "code",
   "execution_count": null,
   "metadata": {},
   "outputs": [],
   "source": [
    "print(aList[0:len(aList)])"
   ]
  },
  {
   "attachments": {},
   "cell_type": "markdown",
   "metadata": {},
   "source": [
    "This can seem confusing at first. The first number in the list is the index of the item in the list to access (e.g. if starting at 0 access the first item), and the second number is one before the item to access (e.g 1 to 3 means access the second item ([1] and the third item [3] finishing before accessing the third)).\n",
    "\n",
    "This works on strings too:"
   ]
  },
  {
   "cell_type": "code",
   "execution_count": null,
   "metadata": {},
   "outputs": [],
   "source": [
    "sentence = \"a few words\"\n",
    "aWord = sentence[6:10]\n",
    "print(aWord)\n"
   ]
  },
  {
   "attachments": {},
   "cell_type": "markdown",
   "metadata": {},
   "source": [
    "## Tuples\n",
    "\n",
    "Tuples are like a list, but once they have been initialised they can't be changed (they are immutable). They are enclosed by () when initialised. You will use these less but they are worth knowing about."
   ]
  },
  {
   "cell_type": "code",
   "execution_count": null,
   "metadata": {},
   "outputs": [],
   "source": [
    "aTuple = (1,3,5,7,9)\n",
    "print(aTuple[2])"
   ]
  },
  {
   "attachments": {},
   "cell_type": "markdown",
   "metadata": {},
   "source": [
    "## Sets\n",
    "\n",
    "Sets are an unordered collection of unique elements, defined by enclosing a comma-separated list of items within curly braces {}. Sets are mutable, meaning you can add or remove elements from them. You might not encounter these for a while, but they can be good for removing duplicates from a list or finding intersections."
   ]
  },
  {
   "cell_type": "code",
   "execution_count": null,
   "metadata": {},
   "outputs": [],
   "source": [
    "fruits = {'apple', 'banana', 'orange'}\n",
    "print(fruits) "
   ]
  },
  {
   "attachments": {},
   "cell_type": "markdown",
   "metadata": {},
   "source": [
    "Guess what happens when you try and add a duplicate to a set:"
   ]
  },
  {
   "cell_type": "code",
   "execution_count": null,
   "metadata": {},
   "outputs": [],
   "source": [
    "fruits.add('apple')\n",
    "print(fruits) "
   ]
  },
  {
   "attachments": {},
   "cell_type": "markdown",
   "metadata": {},
   "source": [
    "## Dictionaries\n",
    "\n",
    "Dictionaries are very imporant in python. They can be thought of as a key value pair. They are unordered and are denoted by squiggly brackers {}. For example:"
   ]
  },
  {
   "cell_type": "code",
   "execution_count": null,
   "metadata": {},
   "outputs": [],
   "source": [
    "aDict = {'name':'Homer','age':32,'phone':2711}"
   ]
  },
  {
   "attachments": {},
   "cell_type": "markdown",
   "metadata": {},
   "source": [
    "We access a value by using the key as an index, within square brackets:"
   ]
  },
  {
   "cell_type": "code",
   "execution_count": null,
   "metadata": {},
   "outputs": [],
   "source": [
    "print(aDict['name'])"
   ]
  },
  {
   "attachments": {},
   "cell_type": "markdown",
   "metadata": {},
   "source": [
    "You can add a new item to a dictionary simply by assigning it:"
   ]
  },
  {
   "cell_type": "code",
   "execution_count": null,
   "metadata": {},
   "outputs": [],
   "source": [
    "aDict['location'] = 'L1F2RAD36'\n",
    "print(aDict)\n"
   ]
  },
  {
   "attachments": {},
   "cell_type": "markdown",
   "metadata": {},
   "source": [
    "We can look at the keys within a dictionary with .keys:"
   ]
  },
  {
   "cell_type": "code",
   "execution_count": null,
   "metadata": {},
   "outputs": [],
   "source": [
    "aDict.keys()"
   ]
  },
  {
   "attachments": {},
   "cell_type": "markdown",
   "metadata": {},
   "source": [
    "## Lesson 3: Control Flow- Loops and If Statements\n",
    "\n",
    "In python, the indentation level (i.e. the number of leading blank spaces on the line) is critical.  Each level of indentation defines a block of code that belongs together.  This is illustrated below\n",
    "using the \"for\" and \"if\" statements.\n",
    "\n",
    "### The \"if/else\"\n",
    "\n",
    "The `if`/`else` statement allows you to execute different blocks of code based on a condition. Here's an example:"
   ]
  },
  {
   "cell_type": "code",
   "execution_count": null,
   "metadata": {},
   "outputs": [],
   "source": [
    "grade = 80\n",
    "\n",
    "if grade >= 60:\n",
    "    print(\"You passed :)\")\n",
    "else:\n",
    "    print(\"You failed :(\")"
   ]
  },
  {
   "attachments": {},
   "cell_type": "markdown",
   "metadata": {},
   "source": [
    "The `if`/`elif`/`else` statement allows you to check multiple conditions and execute the corresponding block of code. Here's an example:"
   ]
  },
  {
   "cell_type": "code",
   "execution_count": null,
   "metadata": {},
   "outputs": [],
   "source": [
    "if grade >= 90:\n",
    "    print(\"Excellent! :D\")\n",
    "elif grade >= 80:\n",
    "    print(\"Good job! :)\")\n",
    "elif grade >= 70:\n",
    "    print(\"Not bad.\")\n",
    "else:\n",
    "    print(\"You can do better. :(\")"
   ]
  },
  {
   "attachments": {},
   "cell_type": "markdown",
   "metadata": {},
   "source": [
    "The `while` loop allows you to repeat a block of code as long as a condition is true. Here's an example:"
   ]
  },
  {
   "cell_type": "code",
   "execution_count": null,
   "metadata": {},
   "outputs": [],
   "source": [
    "count = 1\n",
    "\n",
    "while count < 5:\n",
    "    print(\"Count:\", count)\n",
    "    count += 1"
   ]
  },
  {
   "attachments": {},
   "cell_type": "markdown",
   "metadata": {},
   "source": [
    "Most language have something similar to the Python for loop, but Python's version is slightly different to that of most of them.  The format is:\n",
    "\n",
    "```\n",
    "for aThing in aListOfThings:\n",
    "    doSomethingWith aThing\n",
    "    doSomethingElse\n",
    "```\n",
    "\n",
    "Since that probably doesn't make a lot of sense - here's two examples:"
   ]
  },
  {
   "cell_type": "code",
   "execution_count": null,
   "metadata": {},
   "outputs": [],
   "source": [
    "for num in range(1, 6):\n",
    "    print(num)"
   ]
  },
  {
   "cell_type": "code",
   "execution_count": null,
   "metadata": {},
   "outputs": [],
   "source": [
    "list = ('hello', 'good day', 'greetings')\n",
    "otherlist = ('goodbye')\n",
    "\n",
    "for i in (list):\n",
    "    print(i)\n",
    "    print(otherlist)"
   ]
  }
 ],
 "metadata": {
  "kernelspec": {
   "display_name": "Python 3",
   "language": "python",
   "name": "python3"
  },
  "language_info": {
   "codemirror_mode": {
    "name": "ipython",
    "version": 3
   },
   "file_extension": ".py",
   "mimetype": "text/x-python",
   "name": "python",
   "nbconvert_exporter": "python",
   "pygments_lexer": "ipython3",
   "version": "3.10.8"
  },
  "orig_nbformat": 4,
  "vscode": {
   "interpreter": {
    "hash": "7af3df6d37d4072006f997d72790b3b31784038f43073f54cdc779255e10cbf1"
   }
  }
 },
 "nbformat": 4,
 "nbformat_minor": 2
}
